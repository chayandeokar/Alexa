{
 "cells": [
  {
   "cell_type": "code",
   "execution_count": 104,
   "metadata": {},
   "outputs": [],
   "source": [
    "import speech_recognition as sr\n",
    "r= sr.Recognizer()\n",
    "import pyttsx3\n",
    "engine = pyttsx3.init()\n",
    "import spacy\n",
    "english = spacy.load('en_core_web_sm')\n",
    "import subprocess\n",
    "import os\n",
    "import calendar"
   ]
  },
  {
   "cell_type": "code",
   "execution_count": 105,
   "metadata": {},
   "outputs": [
    {
     "name": "stdout",
     "output_type": "stream",
     "text": [
      "start say\n",
      "speech done..\n"
     ]
    },
    {
     "data": {
      "text/plain": [
       "'hey Siri'"
      ]
     },
     "execution_count": 105,
     "metadata": {},
     "output_type": "execute_result"
    }
   ],
   "source": [
    "with sr.Microphone() as source:\n",
    "    print('start say')\n",
    "    audio = r.listen(source)\n",
    "    print('speech done..')\n",
    "r.recognize_google(audio)"
   ]
  },
  {
   "cell_type": "code",
   "execution_count": 106,
   "metadata": {},
   "outputs": [],
   "source": [
    "engine.say('hello chayan')\n",
    "engine.say('how can i help you')\n",
    "engine.runAndWait()"
   ]
  },
  {
   "cell_type": "code",
   "execution_count": 108,
   "metadata": {},
   "outputs": [
    {
     "name": "stdout",
     "output_type": "stream",
     "text": [
      "start say\n",
      "speech done..\n"
     ]
    }
   ],
   "source": [
    "with sr.Microphone() as source:\n",
    "    print('start say')\n",
    "    audio = r.listen(source)\n",
    "    print('speech done..')"
   ]
  },
  {
   "cell_type": "code",
   "execution_count": 109,
   "metadata": {},
   "outputs": [
    {
     "data": {
      "text/plain": [
       "'can you run cal command for me'"
      ]
     },
     "execution_count": 109,
     "metadata": {},
     "output_type": "execute_result"
    }
   ],
   "source": [
    "r.recognize_google(audio)"
   ]
  },
  {
   "cell_type": "code",
   "execution_count": 110,
   "metadata": {},
   "outputs": [],
   "source": [
    "speech = r.recognize_google(audio)\n",
    "doc1 = english(speech)"
   ]
  },
  {
   "cell_type": "code",
   "execution_count": 111,
   "metadata": {},
   "outputs": [],
   "source": [
    "for i in doc1:\n",
    "    if i.pos == \"VERB\":\n",
    "        print(i.text , i.lemma_)\n",
    "        myaction = i.lemma_"
   ]
  },
  {
   "cell_type": "code",
   "execution_count": 112,
   "metadata": {},
   "outputs": [
    {
     "name": "stdout",
     "output_type": "stream",
     "text": [
      "'cal' is not recognized as an internal or external command,\n",
      "operable program or batch file.\n"
     ]
    }
   ],
   "source": [
    "if (\"date\" in speech) and (\"run\" in speech) or (\"execute\" in speech):\n",
    "    output = subprocess.getoutput(\"date\")\n",
    "    print(output)\n",
    "elif (\"cal\" in speech) and (\"run\" in speech) or (\"execute\" in speech):\n",
    "    output = subprocess.getoutput(\"cal\")\n",
    "    print(output)\n",
    "elif (\"chrome\" in speech) and (\"run\" in speech) or (\"execute\" in speech) or (\"open\" in speech):\n",
    "    subprocess.getoutput(\"chrome\")\n",
    "    \n",
    "elif (\"linkedin\" in speech) and (\"Vimal Daga\" in speech) and (\"open\" in speech) or (\"run\" in speech):\n",
    "    output = subprocess.getoutput(\"chrome https://www.linkedin.com/in/vimaldaga/\")\n",
    "    print(output)\n",
    "elif (\"youtube\" in speech) and (\"gym heros\" in speech) and (\"open\" in speech):\n",
    "    os.system(\"https://www.youtube.com/watch?v=T3E9Wjbq44E\")\n",
    "else:\n",
    "    print(\"error\")\n",
    "    \n",
    "    "
   ]
  },
  {
   "cell_type": "code",
   "execution_count": 73,
   "metadata": {},
   "outputs": [],
   "source": [
    "engine.say('here is your date command')\n",
    "engine.runAndWait()"
   ]
  },
  {
   "cell_type": "code",
   "execution_count": null,
   "metadata": {},
   "outputs": [],
   "source": []
  }
 ],
 "metadata": {
  "kernelspec": {
   "display_name": "Python 3",
   "language": "python",
   "name": "python3"
  },
  "language_info": {
   "codemirror_mode": {
    "name": "ipython",
    "version": 3
   },
   "file_extension": ".py",
   "mimetype": "text/x-python",
   "name": "python",
   "nbconvert_exporter": "python",
   "pygments_lexer": "ipython3",
   "version": "3.8.3"
  }
 },
 "nbformat": 4,
 "nbformat_minor": 4
}
